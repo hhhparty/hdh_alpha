{
 "cells": [
  {
   "cell_type": "code",
   "execution_count": 2,
   "metadata": {},
   "outputs": [
    {
     "data": {
      "text/plain": [
       "(94, 46)"
      ]
     },
     "execution_count": 2,
     "metadata": {},
     "output_type": "execute_result"
    }
   ],
   "source": [
    "import tushare as ts\n",
    "\n",
    "df = ts.get_balance_sheet(\"600001\")\n",
    "df.shape"
   ]
  },
  {
   "cell_type": "code",
   "execution_count": 5,
   "metadata": {},
   "outputs": [],
   "source": [
    "import time\n",
    "import random\n",
    "time.sleep(random.randint(2,6))"
   ]
  },
  {
   "cell_type": "code",
   "execution_count": 10,
   "metadata": {},
   "outputs": [
    {
     "name": "stdout",
     "output_type": "stream",
     "text": [
      "\r",
      "0%\r",
      "1%\r",
      "2%\r",
      "3%\r",
      "4%\r",
      "5%\r",
      "6%\r",
      "7%\r",
      "8%\r",
      "9%\r",
      "10%\r",
      "11%\r",
      "12%\r",
      "13%\r",
      "14%\r",
      "15%\r",
      "16%\r",
      "17%\r",
      "18%\r",
      "19%\r",
      "20%\r",
      "21%\r",
      "22%\r",
      "23%\r",
      "24%\r",
      "25%\r",
      "26%\r",
      "27%\r",
      "28%\r",
      "29%\r",
      "30%\r",
      "31%\r",
      "32%\r",
      "33%\r",
      "34%\r",
      "35%\r",
      "36%\r",
      "37%\r",
      "38%\r",
      "39%\r",
      "40%\r",
      "41%\r",
      "42%\r",
      "43%\r",
      "44%\r",
      "45%\r",
      "46%\r",
      "47%\r",
      "48%\r",
      "49%\r",
      "50%\r",
      "51%\r",
      "52%\r",
      "53%\r",
      "54%\r",
      "55%\r",
      "56%\r",
      "57%\r",
      "58%\r",
      "59%\r",
      "60%\r",
      "61%\r",
      "62%\r",
      "63%\r",
      "64%\r",
      "65%\r",
      "66%\r",
      "67%\r",
      "68%\r",
      "69%\r",
      "70%\r",
      "71%\r",
      "72%\r",
      "73%\r",
      "74%\r",
      "75%\r",
      "76%\r",
      "77%\r",
      "78%\r",
      "79%\r",
      "80%\r",
      "81%\r",
      "82%\r",
      "83%\r",
      "84%\r",
      "85%\r",
      "86%\r",
      "87%\r",
      "88%\r",
      "89%\r",
      "90%\r",
      "91%\r",
      "92%\r",
      "93%\r",
      "94%\r",
      "95%\r",
      "96%\r",
      "97%\r",
      "98%\r",
      "99%\r",
      "100%"
     ]
    }
   ],
   "source": [
    "for i in range(0,101):\n",
    "    print(\"\\r{}%\".format(i),end=\"\")\n",
    "    time.sleep(random.randint(1,3))"
   ]
  },
  {
   "cell_type": "code",
   "execution_count": 4,
   "metadata": {},
   "outputs": [
    {
     "name": "stdout",
     "output_type": "stream",
     "text": [
      "Help on built-in function sleep in module time:\n",
      "\n",
      "sleep(...)\n",
      "    sleep(seconds)\n",
      "    \n",
      "    Delay execution for a given number of seconds.  The argument may be\n",
      "    a floating point number for subsecond precision.\n",
      "\n"
     ]
    }
   ],
   "source": [
    "help(time.sleep)"
   ]
  },
  {
   "cell_type": "code",
   "execution_count": null,
   "metadata": {},
   "outputs": [],
   "source": []
  }
 ],
 "metadata": {
  "kernelspec": {
   "display_name": "Python [conda env:quanto] *",
   "language": "python",
   "name": "conda-env-quanto-py"
  },
  "language_info": {
   "codemirror_mode": {
    "name": "ipython",
    "version": 3
   },
   "file_extension": ".py",
   "mimetype": "text/x-python",
   "name": "python",
   "nbconvert_exporter": "python",
   "pygments_lexer": "ipython3",
   "version": "3.7.6"
  }
 },
 "nbformat": 4,
 "nbformat_minor": 4
}
